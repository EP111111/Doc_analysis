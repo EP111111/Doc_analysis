{
  "nbformat": 4,
  "nbformat_minor": 0,
  "metadata": {
    "colab": {
      "provenance": [],
      "authorship_tag": "ABX9TyOF1CnN6nAsfsgV/H4GV5UR",
      "include_colab_link": true
    },
    "kernelspec": {
      "name": "python3",
      "display_name": "Python 3"
    },
    "language_info": {
      "name": "python"
    }
  },
  "cells": [
    {
      "cell_type": "markdown",
      "metadata": {
        "id": "view-in-github",
        "colab_type": "text"
      },
      "source": [
        "<a href=\"https://colab.research.google.com/github/EP111111/Doc_analysis/blob/main/DA_improved.ipynb\" target=\"_parent\"><img src=\"https://colab.research.google.com/assets/colab-badge.svg\" alt=\"Open In Colab\"/></a>"
      ]
    },
    {
      "cell_type": "code",
      "execution_count": 1,
      "metadata": {
        "id": "AxvuhS37JxXy"
      },
      "outputs": [],
      "source": [
        "from google.colab import auth as google_auth\n",
        "google_auth.authenticate_user()\n"
      ]
    },
    {
      "cell_type": "code",
      "source": [
        "!pip install shapely==1.8.5\n",
        "!pip install google-cloud-aiplatform --upgrade\n",
        "!pip install python-docx\n",
        "!pip install langchain\n",
        "!pip install docx2txt\n",
        "!pip install chromadb"
      ],
      "metadata": {
        "id": "PwLoIy3uKEzo"
      },
      "execution_count": null,
      "outputs": []
    },
    {
      "cell_type": "code",
      "source": [
        "import vertexai\n",
        "from vertexai.language_models import TextGenerationModel\n",
        "from google.colab import drive\n",
        "import docx\n",
        "import numpy as np\n",
        "import pandas as pd"
      ],
      "metadata": {
        "id": "nkzNFWZ_Ke0F"
      },
      "execution_count": 4,
      "outputs": []
    },
    {
      "cell_type": "code",
      "source": [
        "import time\n",
        "from langchain.embeddings import VertexAIEmbeddings\n",
        "from langchain.vectorstores import Chroma\n",
        "import pandas as pd\n",
        "import json"
      ],
      "metadata": {
        "id": "5bMKMXHa6zkD"
      },
      "execution_count": null,
      "outputs": []
    },
    {
      "cell_type": "code",
      "source": [
        "PROJECT_ID = \"ics-analysis-dev\"\n",
        "vertexai.init(project=PROJECT_ID, location=\"us-central1\")\n",
        "\n",
        "model = TextGenerationModel.from_pretrained(\"text-bison@001\")"
      ],
      "metadata": {
        "id": "gKNNxk4bK4C3"
      },
      "execution_count": 5,
      "outputs": []
    },
    {
      "cell_type": "markdown",
      "source": [
        "##Document Splitting\n",
        "Document Splitting is to split documents into smaller chunks."
      ],
      "metadata": {
        "id": "ervrvRLG62fM"
      }
    },
    {
      "cell_type": "code",
      "source": [
        "from langchain.document_loaders import Docx2txtLoader\n",
        "text=Docx2txtLoader(\"Project Alpha.docx\").load()"
      ],
      "metadata": {
        "id": "GTSlrm5wR1C0"
      },
      "execution_count": 10,
      "outputs": []
    },
    {
      "cell_type": "code",
      "source": [
        "from langchain.text_splitter import CharacterTextSplitter\n",
        "text_splitter = CharacterTextSplitter(\n",
        "    separator=\"\\n\",\n",
        "    chunk_size=1000,\n",
        "    chunk_overlap=150,\n",
        "    length_function=len\n",
        ")\n",
        "\n",
        "docs = text_splitter.split_documents(text)\n"
      ],
      "metadata": {
        "colab": {
          "base_uri": "https://localhost:8080/"
        },
        "id": "HbRK-HN4SSrg",
        "outputId": "635b0059-8dd8-464e-b516-116d90611734"
      },
      "execution_count": 11,
      "outputs": [
        {
          "output_type": "stream",
          "name": "stderr",
          "text": [
            "WARNING:langchain.text_splitter:Created a chunk of size 1072, which is longer than the specified 1000\n"
          ]
        }
      ]
    },
    {
      "cell_type": "markdown",
      "source": [
        "##Vector Stores and Embeddings\n",
        " put these chunks into an index so that we are able to retrieve them easily when we want to answer questions on this document."
      ],
      "metadata": {
        "id": "rS1xO11o7KN7"
      }
    },
    {
      "cell_type": "code",
      "source": [
        "embeddings = VertexAIEmbeddings()\n",
        "# Create the vector store\n",
        "vectordb = Chroma.from_documents(\n",
        "    documents=docs,\n",
        "    embedding=embeddings,\n",
        "    persist_directory=\"/content\"\n",
        ")\n",
        "\n",
        "print(vectordb._collection.count())"
      ],
      "metadata": {
        "colab": {
          "base_uri": "https://localhost:8080/"
        },
        "id": "DglX-oCKVYGX",
        "outputId": "cc153877-7901-4f97-ae7a-829d617fcf3e"
      },
      "execution_count": 17,
      "outputs": [
        {
          "output_type": "stream",
          "name": "stdout",
          "text": [
            "47\n"
          ]
        }
      ]
    },
    {
      "cell_type": "code",
      "source": [
        "from langchain.chat_models import ChatVertexAI\n",
        "llm = ChatVertexAI()"
      ],
      "metadata": {
        "id": "LdgdQPoTnDTm"
      },
      "execution_count": 20,
      "outputs": []
    },
    {
      "cell_type": "code",
      "source": [
        "from langchain.chains import RetrievalQA\n",
        "\n",
        "qa_chain = RetrievalQA.from_chain_type(\n",
        "    llm,\n",
        "    retriever=vectordb.as_retriever()\n",
        ")"
      ],
      "metadata": {
        "id": "oyhG2iYeo6fE"
      },
      "execution_count": 21,
      "outputs": []
    },
    {
      "cell_type": "code",
      "source": [
        "question = \"\"\"extract all questions in this document  :\n",
        "\"\"\"\n",
        "result = qa_chain({\"query\": question})\n",
        "result[\"result\"]"
      ],
      "metadata": {
        "colab": {
          "base_uri": "https://localhost:8080/",
          "height": 192
        },
        "id": "qH7ZRVfzpMZp",
        "outputId": "8abf40b9-db7b-43e2-a55b-8c54a798c73c"
      },
      "execution_count": 47,
      "outputs": [
        {
          "output_type": "execute_result",
          "data": {
            "text/plain": [
              "' 1. Describe the success of this experience and whether or how lessons learned were implemented.\\n2. Describe your experience levels and PMP Certifications with project management. How do you ordinarily scope, estimate, assign resources and measure progress?\\n3. Do you use internal staff for project management or do you use third party system integration teams?\\n4. Which software development lifecycle model would you choose for this project and why?\\n5. Describe your experience with Visual Fox Pro, any past data conversion experience with this technology, are any team members certified.\\n6. Describe your testing methodology and QA approach. Which testing tools and instruments do you'"
            ],
            "application/vnd.google.colaboratory.intrinsic+json": {
              "type": "string"
            }
          },
          "metadata": {},
          "execution_count": 47
        }
      ]
    },
    {
      "cell_type": "code",
      "source": [
        "\n"
      ],
      "metadata": {
        "colab": {
          "base_uri": "https://localhost:8080/",
          "height": 192
        },
        "id": "mDxu3S1dxwhK",
        "outputId": "3f86ac34-6931-48df-ebaf-70e60ff4d174"
      },
      "execution_count": 45,
      "outputs": [
        {
          "output_type": "execute_result",
          "data": {
            "text/plain": [
              "' ```json\\n{\\n  \"questions\": [\\n    \"Describe the success of this experience and whether or how lessons learned were implemented.\",\\n    \"Describe your experience levels and PMP Certifications with project management. How do you ordinarily scope, estimate, assign resources and measure progress?\",\\n    \"Do you use internal staff for project management or do you use third party system integration teams?\",\\n    \"Which software development lifecycle model would you choose for this project and why?\",\\n    \"Describe your experience with Visual Fox Pro, any past data conversion experience with this technology, are any team members certified.\",\\n    \"Describe your testing methodology and'"
            ],
            "application/vnd.google.colaboratory.intrinsic+json": {
              "type": "string"
            }
          },
          "metadata": {},
          "execution_count": 45
        }
      ]
    },
    {
      "cell_type": "code",
      "source": [],
      "metadata": {
        "id": "MlTS0klvwjvH"
      },
      "execution_count": null,
      "outputs": []
    }
  ]
}