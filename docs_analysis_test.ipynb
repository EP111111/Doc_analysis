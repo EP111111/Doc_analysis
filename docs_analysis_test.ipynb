{
  "nbformat": 4,
  "nbformat_minor": 0,
  "metadata": {
    "colab": {
      "provenance": [],
      "authorship_tag": "ABX9TyO0tC94mjyXkc3rH3bjEjTp",
      "include_colab_link": true
    },
    "kernelspec": {
      "name": "python3",
      "display_name": "Python 3"
    },
    "language_info": {
      "name": "python"
    }
  },
  "cells": [
    {
      "cell_type": "markdown",
      "metadata": {
        "id": "view-in-github",
        "colab_type": "text"
      },
      "source": [
        "<a href=\"https://colab.research.google.com/github/EP111111/Doc_analysis/blob/main/docs_analysis_test.ipynb\" target=\"_parent\"><img src=\"https://colab.research.google.com/assets/colab-badge.svg\" alt=\"Open In Colab\"/></a>"
      ]
    },
    {
      "cell_type": "code",
      "execution_count": null,
      "metadata": {
        "id": "Ml6EZY0VkwdL"
      },
      "outputs": [],
      "source": [
        "from google.colab import auth as google_auth\n",
        "google_auth.authenticate_user()\n"
      ]
    },
    {
      "cell_type": "code",
      "source": [
        "!pip install \"shapely<2.0.0\"\n",
        "!pip install google-cloud-aiplatform --upgrade\n",
        "!pip install textract\n",
        "!pip install python-docx"
      ],
      "metadata": {
        "id": "4dhhM5dmrVEo"
      },
      "execution_count": null,
      "outputs": []
    },
    {
      "cell_type": "code",
      "source": [
        "import vertexai\n",
        "from vertexai.language_models import TextGenerationModel\n",
        "from google.colab import drive\n",
        "import textract\n",
        "import numpy as np\n",
        "import pandas as pd\n",
        "import re\n"
      ],
      "metadata": {
        "id": "hSx-AwpqqxIC"
      },
      "execution_count": null,
      "outputs": []
    },
    {
      "cell_type": "code",
      "source": [
        "PROJECT_ID = \"ics-analysis-dev\"\n",
        "vertexai.init(project=PROJECT_ID, location=\"us-central1\")\n",
        "\n",
        "model = TextGenerationModel.from_pretrained(\"text-bison@001\")"
      ],
      "metadata": {
        "id": "t-mPfhRdq6xv"
      },
      "execution_count": null,
      "outputs": []
    },
    {
      "cell_type": "code",
      "source": [
        "from functions import *\n",
        "import docx"
      ],
      "metadata": {
        "id": "coWCAMoLrzga"
      },
      "execution_count": null,
      "outputs": []
    },
    {
      "cell_type": "markdown",
      "source": [
        "# Read long docs to be processed"
      ],
      "metadata": {
        "id": "6h2szva4SZg4"
      }
    },
    {
      "cell_type": "code",
      "source": [
        "def read_word_file(file_path):\n",
        "    doc = docx.Document(file_path)\n",
        "    text = \"\"\n",
        "    for paragraph in doc.paragraphs:\n",
        "        text += paragraph.text + \"\\n\"\n",
        "    return text\n",
        "\n",
        "\n",
        "document_text = read_word_file(\"Project Alpha.docx\")\n",
        "\n"
      ],
      "metadata": {
        "id": "kdR-O5Sp7FG1"
      },
      "execution_count": null,
      "outputs": []
    },
    {
      "cell_type": "markdown",
      "source": [
        "# Seperating docs into sections\n",
        "Palm2 has a limit of 8000 tokens\n",
        "if the section is long, we will have less sections, then the model will be faster.\n",
        "But if the section is too long, the output will exceed the maxmium output size which is 1024 token\n",
        "if the section is short, we will call palm2 more times. it takes longer time"
      ],
      "metadata": {
        "id": "JOv_xWUOSsCf"
      }
    },
    {
      "cell_type": "code",
      "source": [
        "LLM_c= LLM_SPLIT_FUNC(document_text,model,13500)\n",
        "LLM_c.keys()"
      ],
      "metadata": {
        "colab": {
          "base_uri": "https://localhost:8080/"
        },
        "id": "dtAlpofj8F_i",
        "outputId": "42671e43-418a-40bc-940b-13c932b5c0d4"
      },
      "execution_count": null,
      "outputs": [
        {
          "output_type": "execute_result",
          "data": {
            "text/plain": [
              "dict_keys([0, 1, 2])"
            ]
          },
          "metadata": {},
          "execution_count": 103
        }
      ]
    },
    {
      "cell_type": "code",
      "source": [
        "length=0\n",
        "for i in LLM_c.values():\n",
        "  print(len(i))\n",
        "  length+=len(i)\n",
        "print(f'total length： {length}')\n",
        "print(f'document length： {len(document_text)}')"
      ],
      "metadata": {
        "colab": {
          "base_uri": "https://localhost:8080/"
        },
        "id": "aKklijOr8cFR",
        "outputId": "223a399c-488e-4a91-8d84-710c87d75995"
      },
      "execution_count": null,
      "outputs": [
        {
          "output_type": "stream",
          "name": "stdout",
          "text": [
            "10539\n",
            "12020\n",
            "13227\n",
            "total length： 35786\n",
            "document length： 35786\n"
          ]
        }
      ]
    },
    {
      "cell_type": "code",
      "source": [
        "#print seperator\n",
        "for i in LLM_c.values():\n",
        "  if i.split('\\n')[0]=='':\n",
        "    print(i.split('\\n')[1])\n",
        "  else:\n",
        "    print(i.split('\\n')[0])"
      ],
      "metadata": {
        "colab": {
          "base_uri": "https://localhost:8080/"
        },
        "id": "Gp2d3-7xIEQN",
        "outputId": "c8520240-d2ca-4772-86fe-ec4fa1fd84d8"
      },
      "execution_count": null,
      "outputs": [
        {
          "output_type": "stream",
          "name": "stdout",
          "text": [
            "\n",
            "The Energy Program at AGENTS is there to assist members of the community with their heating costs throughout the winter as well as home electricity needs. This is a program that relies heavily on specific state and federal regulations and funding sources, so it must be managed and reconfigured on a yearly basis as the regulations and funding sources change.\n",
            "VENDOR PROPOSAL\n"
          ]
        }
      ]
    },
    {
      "cell_type": "code",
      "source": [
        "#generate questions for each section\n",
        "questions={}\n",
        "for ind, i in enumerate(LLM_c.keys()):\n",
        "  a=Query_Vertex('take questions out from the provided article, if no question in the article, return \"no\". ' ,LLM_c[i],model).split('\\n')\n",
        "  if len(a)!=1:\n",
        "    print(i)\n",
        "    print(a)\n",
        "    questions[i]=a"
      ],
      "metadata": {
        "colab": {
          "base_uri": "https://localhost:8080/"
        },
        "id": "9z2ZNYwSPZwH",
        "outputId": "d456950f-3eec-4abb-f2b6-0c8eee4b7d29"
      },
      "execution_count": null,
      "outputs": [
        {
          "output_type": "stream",
          "name": "stdout",
          "text": [
            "0\n",
            "['Are there any specific requirements for the software?', 'What are the technical specifications of the system?', 'What are the reporting requirements?', 'What are the data security requirements?', 'What are the accounting requirements?']\n",
            "1\n",
            "['Provide an overview of your company, including date of incorporation, operating locations, number of employees, area(s) of specialty and number of successful projects with Non-Profit / Community Action Program customers.', 'Are you a woman or minority owned business? Please indicate in your response if you are.', 'Provide information about the specification of the project organizations with which you have experience (e.g., onshore, offshore, onshore PM, offshore dedicated development team, etc.).', 'Describe how you screen and hire staff. What level of skill and certifications, if any, must they have? How do you evaluate their experience and performance? What was your staff turnover rate throughout the preceding three (3) years for each year? Do you require background checks on all employees? How often is a background check updated on existing employees? Do you employ any overseas resources?', '', 'Describe the Software Development Life Cycle used for customizations, defects and system upgrades as would pertain to AGENTS customizations', '', 'Describe Software Release cycle used for new features to the overall system. Do you release new features Quarterly, Bi-Annually, Annually? How often is the overall system updated for security patches?', '', 'Describe server patching policy. If this is a cloud-based solution, how much planned down time is there per year, what hours or days is known down time typically planned', '', 'Have you ever worked on projects for Non-Profit Community Action Programs with similar functionality? Please provide a brief description of the project, project scope, size of the team, duration of the project and project management model.', '', 'What was the service and what was your role in the creation/deployment of the solution?', '', 'Describe the success of this experience and whether or how lessons learned were implemented.', 'Describe your experience levels and PMP Certifications with project management. How do you ordinarily scope, estimate, assign resources and measure progress?', '', 'Do you use internal staff for project management or do you use third party system integration teams?', '', '', 'Which software development lifecycle model would you choose for this project and why?', '', 'Describe your experience with Visual Fox Pro, any past data conversion experience with this technology, are any team members certified.', '', 'Describe your testing methodology and QA approach. Which testing tools and instruments do you use? Which methodologies do you use? What standard documentation do you produce during the development process?', '', '', 'Provide the Software Programming Language used to develop the proposed system (Example: C++, Java, C#)', 'Provide the Database Technology the proposed system requires (Example Oracle, SQL Server)', '', '', 'Provide the target deployment platform operating system', '', 'References', '', 'Provide a minimum of three references within the past two years to whom products or services similar in scope to the requirements of this RFP have been provided, in the following form: the name of the person who may be contacted, position, email address and phone number as well as the main location physical address.']\n",
            "2\n",
            "['1. What is the total number of hours associated with the following tasks/resources:', 'Total Project Hours', 'Project Management', 'Software Engineering/Development needed for Customizations', 'Testing & QA', 'Software Warranty', 'Infrastructure Management', '2. Provide a cost proposal which includes the total cost to be charged as well as the cost broken down by the following categories:', 'Initial Software Cost by Module', 'Customization', 'Itemized per customization', 'Group customizations which are required together', 'Installation and Configuration', 'Post Project Support', 'Training', 'Any Recurring Costs', '3. Provide a schedule of hourly rates for the various roles and skill levels to be assigned to this project.']\n"
          ]
        }
      ]
    },
    {
      "cell_type": "code",
      "source": [],
      "metadata": {
        "id": "R9I1BgnBPivm"
      },
      "execution_count": null,
      "outputs": []
    }
  ]
}