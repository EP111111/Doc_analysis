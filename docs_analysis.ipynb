{
  "nbformat": 4,
  "nbformat_minor": 0,
  "metadata": {
    "colab": {
      "provenance": [],
      "authorship_tag": "ABX9TyN/yB7iinfux1jwzb16BpFl",
      "include_colab_link": true
    },
    "kernelspec": {
      "name": "python3",
      "display_name": "Python 3"
    },
    "language_info": {
      "name": "python"
    }
  },
  "cells": [
    {
      "cell_type": "markdown",
      "metadata": {
        "id": "view-in-github",
        "colab_type": "text"
      },
      "source": [
        "<a href=\"https://colab.research.google.com/github/EP111111/Doc_analysis/blob/main/docs_analysis.ipynb\" target=\"_parent\"><img src=\"https://colab.research.google.com/assets/colab-badge.svg\" alt=\"Open In Colab\"/></a>"
      ]
    },
    {
      "cell_type": "code",
      "execution_count": null,
      "metadata": {
        "id": "Ml6EZY0VkwdL"
      },
      "outputs": [],
      "source": [
        "from google.colab import auth as google_auth\n",
        "google_auth.authenticate_user()\n"
      ]
    },
    {
      "cell_type": "code",
      "source": [
        "!pip install shapely==1.8.5"
      ],
      "metadata": {
        "colab": {
          "base_uri": "https://localhost:8080/"
        },
        "id": "-jszo4fuXiqW",
        "outputId": "5c521eb9-a380-4fc9-f914-6658727ec4a9"
      },
      "execution_count": null,
      "outputs": [
        {
          "output_type": "stream",
          "name": "stdout",
          "text": [
            "Collecting shapely==1.8.5\n",
            "  Downloading Shapely-1.8.5-cp310-cp310-manylinux_2_12_x86_64.manylinux2010_x86_64.whl (2.0 MB)\n",
            "\u001b[2K     \u001b[90m━━━━━━━━━━━━━━━━━━━━━━━━━━━━━━━━━━━━━━━━\u001b[0m \u001b[32m2.0/2.0 MB\u001b[0m \u001b[31m21.9 MB/s\u001b[0m eta \u001b[36m0:00:00\u001b[0m\n",
            "\u001b[?25hInstalling collected packages: shapely\n",
            "  Attempting uninstall: shapely\n",
            "    Found existing installation: Shapely 1.8.5.post1\n",
            "    Uninstalling Shapely-1.8.5.post1:\n",
            "      Successfully uninstalled Shapely-1.8.5.post1\n",
            "Successfully installed shapely-1.8.5\n"
          ]
        }
      ]
    },
    {
      "cell_type": "code",
      "source": [
        "\n",
        "!pip install google-cloud-aiplatform --upgrade\n",
        "!pip install textract\n",
        "!pip install python-docx"
      ],
      "metadata": {
        "colab": {
          "base_uri": "https://localhost:8080/"
        },
        "id": "4dhhM5dmrVEo",
        "outputId": "d895b7c1-39e8-455b-ca5b-339d2b2291a8"
      },
      "execution_count": null,
      "outputs": [
        {
          "output_type": "stream",
          "name": "stdout",
          "text": [
            "Requirement already satisfied: google-cloud-aiplatform in /usr/local/lib/python3.10/dist-packages (1.34.0)\n",
            "Requirement already satisfied: google-api-core[grpc]!=2.0.*,!=2.1.*,!=2.2.*,!=2.3.*,!=2.4.*,!=2.5.*,!=2.6.*,!=2.7.*,<3.0.0dev,>=1.32.0 in /usr/local/lib/python3.10/dist-packages (from google-cloud-aiplatform) (2.11.1)\n",
            "Requirement already satisfied: proto-plus<2.0.0dev,>=1.22.0 in /usr/local/lib/python3.10/dist-packages (from google-cloud-aiplatform) (1.22.3)\n",
            "Requirement already satisfied: protobuf!=3.20.0,!=3.20.1,!=4.21.0,!=4.21.1,!=4.21.2,!=4.21.3,!=4.21.4,!=4.21.5,<5.0.0dev,>=3.19.5 in /usr/local/lib/python3.10/dist-packages (from google-cloud-aiplatform) (3.20.3)\n",
            "Requirement already satisfied: packaging>=14.3 in /usr/local/lib/python3.10/dist-packages (from google-cloud-aiplatform) (23.2)\n",
            "Requirement already satisfied: google-cloud-storage<3.0.0dev,>=1.32.0 in /usr/local/lib/python3.10/dist-packages (from google-cloud-aiplatform) (2.8.0)\n",
            "Requirement already satisfied: google-cloud-bigquery<4.0.0dev,>=1.15.0 in /usr/local/lib/python3.10/dist-packages (from google-cloud-aiplatform) (3.10.0)\n",
            "Requirement already satisfied: google-cloud-resource-manager<3.0.0dev,>=1.3.3 in /usr/local/lib/python3.10/dist-packages (from google-cloud-aiplatform) (1.10.4)\n",
            "Requirement already satisfied: shapely<2.0.0 in /usr/local/lib/python3.10/dist-packages (from google-cloud-aiplatform) (1.8.5)\n",
            "Requirement already satisfied: googleapis-common-protos<2.0.dev0,>=1.56.2 in /usr/local/lib/python3.10/dist-packages (from google-api-core[grpc]!=2.0.*,!=2.1.*,!=2.2.*,!=2.3.*,!=2.4.*,!=2.5.*,!=2.6.*,!=2.7.*,<3.0.0dev,>=1.32.0->google-cloud-aiplatform) (1.60.0)\n",
            "Requirement already satisfied: google-auth<3.0.dev0,>=2.14.1 in /usr/local/lib/python3.10/dist-packages (from google-api-core[grpc]!=2.0.*,!=2.1.*,!=2.2.*,!=2.3.*,!=2.4.*,!=2.5.*,!=2.6.*,!=2.7.*,<3.0.0dev,>=1.32.0->google-cloud-aiplatform) (2.17.3)\n",
            "Requirement already satisfied: requests<3.0.0.dev0,>=2.18.0 in /usr/local/lib/python3.10/dist-packages (from google-api-core[grpc]!=2.0.*,!=2.1.*,!=2.2.*,!=2.3.*,!=2.4.*,!=2.5.*,!=2.6.*,!=2.7.*,<3.0.0dev,>=1.32.0->google-cloud-aiplatform) (2.31.0)\n",
            "Requirement already satisfied: grpcio<2.0dev,>=1.33.2 in /usr/local/lib/python3.10/dist-packages (from google-api-core[grpc]!=2.0.*,!=2.1.*,!=2.2.*,!=2.3.*,!=2.4.*,!=2.5.*,!=2.6.*,!=2.7.*,<3.0.0dev,>=1.32.0->google-cloud-aiplatform) (1.59.0)\n",
            "Requirement already satisfied: grpcio-status<2.0.dev0,>=1.33.2 in /usr/local/lib/python3.10/dist-packages (from google-api-core[grpc]!=2.0.*,!=2.1.*,!=2.2.*,!=2.3.*,!=2.4.*,!=2.5.*,!=2.6.*,!=2.7.*,<3.0.0dev,>=1.32.0->google-cloud-aiplatform) (1.48.2)\n",
            "Requirement already satisfied: google-cloud-core<3.0.0dev,>=1.6.0 in /usr/local/lib/python3.10/dist-packages (from google-cloud-bigquery<4.0.0dev,>=1.15.0->google-cloud-aiplatform) (2.3.3)\n",
            "Requirement already satisfied: google-resumable-media<3.0dev,>=0.6.0 in /usr/local/lib/python3.10/dist-packages (from google-cloud-bigquery<4.0.0dev,>=1.15.0->google-cloud-aiplatform) (2.6.0)\n",
            "Requirement already satisfied: python-dateutil<3.0dev,>=2.7.2 in /usr/local/lib/python3.10/dist-packages (from google-cloud-bigquery<4.0.0dev,>=1.15.0->google-cloud-aiplatform) (2.8.2)\n",
            "Requirement already satisfied: grpc-google-iam-v1<1.0.0dev,>=0.12.4 in /usr/local/lib/python3.10/dist-packages (from google-cloud-resource-manager<3.0.0dev,>=1.3.3->google-cloud-aiplatform) (0.12.6)\n",
            "Requirement already satisfied: cachetools<6.0,>=2.0.0 in /usr/local/lib/python3.10/dist-packages (from google-auth<3.0.dev0,>=2.14.1->google-api-core[grpc]!=2.0.*,!=2.1.*,!=2.2.*,!=2.3.*,!=2.4.*,!=2.5.*,!=2.6.*,!=2.7.*,<3.0.0dev,>=1.32.0->google-cloud-aiplatform) (5.3.1)\n",
            "Requirement already satisfied: pyasn1-modules>=0.2.1 in /usr/local/lib/python3.10/dist-packages (from google-auth<3.0.dev0,>=2.14.1->google-api-core[grpc]!=2.0.*,!=2.1.*,!=2.2.*,!=2.3.*,!=2.4.*,!=2.5.*,!=2.6.*,!=2.7.*,<3.0.0dev,>=1.32.0->google-cloud-aiplatform) (0.3.0)\n",
            "Requirement already satisfied: six>=1.9.0 in /usr/local/lib/python3.10/dist-packages (from google-auth<3.0.dev0,>=2.14.1->google-api-core[grpc]!=2.0.*,!=2.1.*,!=2.2.*,!=2.3.*,!=2.4.*,!=2.5.*,!=2.6.*,!=2.7.*,<3.0.0dev,>=1.32.0->google-cloud-aiplatform) (1.12.0)\n",
            "Requirement already satisfied: rsa<5,>=3.1.4 in /usr/local/lib/python3.10/dist-packages (from google-auth<3.0.dev0,>=2.14.1->google-api-core[grpc]!=2.0.*,!=2.1.*,!=2.2.*,!=2.3.*,!=2.4.*,!=2.5.*,!=2.6.*,!=2.7.*,<3.0.0dev,>=1.32.0->google-cloud-aiplatform) (4.9)\n",
            "Requirement already satisfied: google-crc32c<2.0dev,>=1.0 in /usr/local/lib/python3.10/dist-packages (from google-resumable-media<3.0dev,>=0.6.0->google-cloud-bigquery<4.0.0dev,>=1.15.0->google-cloud-aiplatform) (1.5.0)\n",
            "Requirement already satisfied: charset-normalizer<4,>=2 in /usr/local/lib/python3.10/dist-packages (from requests<3.0.0.dev0,>=2.18.0->google-api-core[grpc]!=2.0.*,!=2.1.*,!=2.2.*,!=2.3.*,!=2.4.*,!=2.5.*,!=2.6.*,!=2.7.*,<3.0.0dev,>=1.32.0->google-cloud-aiplatform) (3.3.0)\n",
            "Requirement already satisfied: idna<4,>=2.5 in /usr/local/lib/python3.10/dist-packages (from requests<3.0.0.dev0,>=2.18.0->google-api-core[grpc]!=2.0.*,!=2.1.*,!=2.2.*,!=2.3.*,!=2.4.*,!=2.5.*,!=2.6.*,!=2.7.*,<3.0.0dev,>=1.32.0->google-cloud-aiplatform) (3.4)\n",
            "Requirement already satisfied: urllib3<3,>=1.21.1 in /usr/local/lib/python3.10/dist-packages (from requests<3.0.0.dev0,>=2.18.0->google-api-core[grpc]!=2.0.*,!=2.1.*,!=2.2.*,!=2.3.*,!=2.4.*,!=2.5.*,!=2.6.*,!=2.7.*,<3.0.0dev,>=1.32.0->google-cloud-aiplatform) (2.0.6)\n",
            "Requirement already satisfied: certifi>=2017.4.17 in /usr/local/lib/python3.10/dist-packages (from requests<3.0.0.dev0,>=2.18.0->google-api-core[grpc]!=2.0.*,!=2.1.*,!=2.2.*,!=2.3.*,!=2.4.*,!=2.5.*,!=2.6.*,!=2.7.*,<3.0.0dev,>=1.32.0->google-cloud-aiplatform) (2023.7.22)\n",
            "Requirement already satisfied: pyasn1<0.6.0,>=0.4.6 in /usr/local/lib/python3.10/dist-packages (from pyasn1-modules>=0.2.1->google-auth<3.0.dev0,>=2.14.1->google-api-core[grpc]!=2.0.*,!=2.1.*,!=2.2.*,!=2.3.*,!=2.4.*,!=2.5.*,!=2.6.*,!=2.7.*,<3.0.0dev,>=1.32.0->google-cloud-aiplatform) (0.5.0)\n",
            "Requirement already satisfied: textract in /usr/local/lib/python3.10/dist-packages (1.6.5)\n",
            "Requirement already satisfied: argcomplete~=1.10.0 in /usr/local/lib/python3.10/dist-packages (from textract) (1.10.3)\n",
            "Requirement already satisfied: beautifulsoup4~=4.8.0 in /usr/local/lib/python3.10/dist-packages (from textract) (4.8.2)\n",
            "Requirement already satisfied: chardet==3.* in /usr/local/lib/python3.10/dist-packages (from textract) (3.0.4)\n",
            "Requirement already satisfied: docx2txt~=0.8 in /usr/local/lib/python3.10/dist-packages (from textract) (0.8)\n",
            "Requirement already satisfied: extract-msg<=0.29.* in /usr/local/lib/python3.10/dist-packages (from textract) (0.28.7)\n",
            "Requirement already satisfied: pdfminer.six==20191110 in /usr/local/lib/python3.10/dist-packages (from textract) (20191110)\n",
            "Requirement already satisfied: python-pptx~=0.6.18 in /usr/local/lib/python3.10/dist-packages (from textract) (0.6.22)\n",
            "Requirement already satisfied: six~=1.12.0 in /usr/local/lib/python3.10/dist-packages (from textract) (1.12.0)\n",
            "Requirement already satisfied: SpeechRecognition~=3.8.1 in /usr/local/lib/python3.10/dist-packages (from textract) (3.8.1)\n",
            "Requirement already satisfied: xlrd~=1.2.0 in /usr/local/lib/python3.10/dist-packages (from textract) (1.2.0)\n",
            "Requirement already satisfied: pycryptodome in /usr/local/lib/python3.10/dist-packages (from pdfminer.six==20191110->textract) (3.19.0)\n",
            "Requirement already satisfied: sortedcontainers in /usr/local/lib/python3.10/dist-packages (from pdfminer.six==20191110->textract) (2.4.0)\n",
            "Requirement already satisfied: soupsieve>=1.2 in /usr/local/lib/python3.10/dist-packages (from beautifulsoup4~=4.8.0->textract) (2.5)\n",
            "Requirement already satisfied: imapclient==2.1.0 in /usr/local/lib/python3.10/dist-packages (from extract-msg<=0.29.*->textract) (2.1.0)\n",
            "Requirement already satisfied: olefile>=0.46 in /usr/local/lib/python3.10/dist-packages (from extract-msg<=0.29.*->textract) (0.46)\n",
            "Requirement already satisfied: tzlocal>=2.1 in /usr/local/lib/python3.10/dist-packages (from extract-msg<=0.29.*->textract) (5.1)\n",
            "Requirement already satisfied: compressed-rtf>=1.0.6 in /usr/local/lib/python3.10/dist-packages (from extract-msg<=0.29.*->textract) (1.0.6)\n",
            "Requirement already satisfied: ebcdic>=1.1.1 in /usr/local/lib/python3.10/dist-packages (from extract-msg<=0.29.*->textract) (1.1.1)\n",
            "Requirement already satisfied: lxml>=3.1.0 in /usr/local/lib/python3.10/dist-packages (from python-pptx~=0.6.18->textract) (4.9.3)\n",
            "Requirement already satisfied: Pillow<=9.5.0,>=3.3.2 in /usr/local/lib/python3.10/dist-packages (from python-pptx~=0.6.18->textract) (9.4.0)\n",
            "Requirement already satisfied: XlsxWriter>=0.5.7 in /usr/local/lib/python3.10/dist-packages (from python-pptx~=0.6.18->textract) (3.1.6)\n",
            "Requirement already satisfied: python-docx in /usr/local/lib/python3.10/dist-packages (0.8.11)\n",
            "Requirement already satisfied: lxml>=2.3.2 in /usr/local/lib/python3.10/dist-packages (from python-docx) (4.9.3)\n"
          ]
        }
      ]
    },
    {
      "cell_type": "code",
      "source": [
        "import vertexai\n",
        "from vertexai.language_models import TextGenerationModel\n",
        "from google.colab import drive\n",
        "import textract\n",
        "import numpy as np\n",
        "import pandas as pd\n",
        "import re\n"
      ],
      "metadata": {
        "id": "hSx-AwpqqxIC"
      },
      "execution_count": null,
      "outputs": []
    },
    {
      "cell_type": "markdown",
      "source": [
        "\\"
      ],
      "metadata": {
        "id": "1NhdN0dRZRjx"
      }
    },
    {
      "cell_type": "code",
      "source": [
        "PROJECT_ID = \"ics-analysis-dev\"\n",
        "vertexai.init(project=PROJECT_ID, location=\"us-central1\")\n",
        "\n",
        "model = TextGenerationModel.from_pretrained(\"text-bison@001\")"
      ],
      "metadata": {
        "id": "t-mPfhRdq6xv"
      },
      "execution_count": null,
      "outputs": []
    },
    {
      "cell_type": "code",
      "source": [
        "from functions import *\n",
        "import docx"
      ],
      "metadata": {
        "id": "coWCAMoLrzga"
      },
      "execution_count": null,
      "outputs": []
    },
    {
      "cell_type": "code",
      "source": [
        "def read_word_file(file_path):\n",
        "    doc = docx.Document(file_path)\n",
        "    text = \"\"\n",
        "    for paragraph in doc.paragraphs:\n",
        "        text += paragraph.text + \"\\n\"\n",
        "    return text\n",
        "\n",
        "\n",
        "document_text = read_word_file(\"Project Alpha fixed.docx\")\n",
        "\n"
      ],
      "metadata": {
        "id": "kdR-O5Sp7FG1"
      },
      "execution_count": null,
      "outputs": []
    },
    {
      "cell_type": "markdown",
      "source": [
        "#Solution 1:\n",
        "Split document into several sections by Large Language Model\n",
        "\n"
      ],
      "metadata": {
        "id": "84160OTyqqJ1"
      }
    },
    {
      "cell_type": "code",
      "source": [
        "def split_document(document, max_section_length=10000):\n",
        "    sections = {}\n",
        "    current_section = \"\"\n",
        "    section_key = 1\n",
        "\n",
        "    paragraphs = document.split(\"\\n\")\n",
        "\n",
        "    for paragraph in paragraphs:\n",
        "        if len(current_section) + len(paragraph) <= max_section_length:\n",
        "            current_section += paragraph + \"\\n\"\n",
        "        else:\n",
        "\n",
        "            sections[section_key] = current_section\n",
        "            current_section = paragraph + \"\\n\"\n",
        "            section_key += 1\n",
        "\n",
        "\n",
        "    sections[section_key] = current_section\n",
        "\n",
        "    return sections\n",
        "\n"
      ],
      "metadata": {
        "id": "LCK60TLoFuM6"
      },
      "execution_count": null,
      "outputs": []
    },
    {
      "cell_type": "markdown",
      "source": [
        "## Seperating docs into sections\n",
        "Palm2 has a limit of 8000 tokens\n",
        "if the section is long, we will have less sections, then the model will be faster.\n",
        "But if the section is too long, the output will exceed the maxmium output size which is 1024 token\n",
        "if the section is short, we will call palm2 more times. it takes longer time"
      ],
      "metadata": {
        "id": "QyNjLrE9rR8S"
      }
    },
    {
      "cell_type": "code",
      "source": [
        "LLM_c= LLM_SPLIT_FUNC(document_text,model,12000)\n",
        "LLM_c.keys()"
      ],
      "metadata": {
        "colab": {
          "base_uri": "https://localhost:8080/"
        },
        "id": "dtAlpofj8F_i",
        "outputId": "bec27e4d-e7b1-45d7-fbad-a31b4f3a9ba2"
      },
      "execution_count": null,
      "outputs": [
        {
          "output_type": "execute_result",
          "data": {
            "text/plain": [
              "dict_keys([0, 1, 2])"
            ]
          },
          "metadata": {},
          "execution_count": 12
        }
      ]
    },
    {
      "cell_type": "code",
      "source": [
        "length=0\n",
        "for i in LLM_c.values():\n",
        "  print(len(i))\n",
        "  length+=len(i)\n",
        "print(f'total length： {length}')\n",
        "print(f'document length： {len(document_text)}')"
      ],
      "metadata": {
        "colab": {
          "base_uri": "https://localhost:8080/"
        },
        "id": "aKklijOr8cFR",
        "outputId": "f6f96b49-4451-4760-a276-90e8acf59850"
      },
      "execution_count": null,
      "outputs": [
        {
          "output_type": "stream",
          "name": "stdout",
          "text": [
            "10464\n",
            "8485\n",
            "10184\n",
            "total length： 29133\n",
            "document length： 29133\n"
          ]
        }
      ]
    },
    {
      "cell_type": "code",
      "source": [
        "#print seperator\n",
        "for i in LLM_c.values():\n",
        "  if i.split('\\n')[0]=='':\n",
        "    print(i.split('\\n')[1])\n",
        "  else:\n",
        "    print(i.split('\\n')[0])"
      ],
      "metadata": {
        "colab": {
          "base_uri": "https://localhost:8080/"
        },
        "id": "Gp2d3-7xIEQN",
        "outputId": "14bf51cb-ed5c-4762-bf45-16c56e544c37"
      },
      "execution_count": null,
      "outputs": [
        {
          "output_type": "stream",
          "name": "stdout",
          "text": [
            "\n",
            "The Energy Program at AGENTS is there to assist members of the community with their heating costs throughout the winter as well as home electricity needs. This is a program that relies heavily on specific state and federal regulations and funding sources, so it must be managed and reconfigured on a yearly basis as the regulations and funding sources change.\n",
            "VENDOR INFORMATION\n"
          ]
        }
      ]
    },
    {
      "cell_type": "code",
      "source": [
        "#generate questions for each section\n",
        "questions={}\n",
        "for ind, i in enumerate(LLM_c.keys()):\n",
        "  a=Query_Vertex('take questions out from the provided article, if no question in the article, return \"no\". ' ,LLM_c[i],model).split('\\n')\n",
        "  if len(a)!=1:\n",
        "    print(i)\n",
        "    print(a)\n",
        "    questions[i]=a"
      ],
      "metadata": {
        "colab": {
          "base_uri": "https://localhost:8080/"
        },
        "id": "9z2ZNYwSPZwH",
        "outputId": "d456950f-3eec-4abb-f2b6-0c8eee4b7d29"
      },
      "execution_count": null,
      "outputs": [
        {
          "output_type": "stream",
          "name": "stdout",
          "text": [
            "0\n",
            "['Are there any specific requirements for the software?', 'What are the technical specifications of the system?', 'What are the reporting requirements?', 'What are the data security requirements?', 'What are the accounting requirements?']\n",
            "1\n",
            "['Provide an overview of your company, including date of incorporation, operating locations, number of employees, area(s) of specialty and number of successful projects with Non-Profit / Community Action Program customers.', 'Are you a woman or minority owned business? Please indicate in your response if you are.', 'Provide information about the specification of the project organizations with which you have experience (e.g., onshore, offshore, onshore PM, offshore dedicated development team, etc.).', 'Describe how you screen and hire staff. What level of skill and certifications, if any, must they have? How do you evaluate their experience and performance? What was your staff turnover rate throughout the preceding three (3) years for each year? Do you require background checks on all employees? How often is a background check updated on existing employees? Do you employ any overseas resources?', '', 'Describe the Software Development Life Cycle used for customizations, defects and system upgrades as would pertain to AGENTS customizations', '', 'Describe Software Release cycle used for new features to the overall system. Do you release new features Quarterly, Bi-Annually, Annually? How often is the overall system updated for security patches?', '', 'Describe server patching policy. If this is a cloud-based solution, how much planned down time is there per year, what hours or days is known down time typically planned', '', 'Have you ever worked on projects for Non-Profit Community Action Programs with similar functionality? Please provide a brief description of the project, project scope, size of the team, duration of the project and project management model.', '', 'What was the service and what was your role in the creation/deployment of the solution?', '', 'Describe the success of this experience and whether or how lessons learned were implemented.', 'Describe your experience levels and PMP Certifications with project management. How do you ordinarily scope, estimate, assign resources and measure progress?', '', 'Do you use internal staff for project management or do you use third party system integration teams?', '', '', 'Which software development lifecycle model would you choose for this project and why?', '', 'Describe your experience with Visual Fox Pro, any past data conversion experience with this technology, are any team members certified.', '', 'Describe your testing methodology and QA approach. Which testing tools and instruments do you use? Which methodologies do you use? What standard documentation do you produce during the development process?', '', '', 'Provide the Software Programming Language used to develop the proposed system (Example: C++, Java, C#)', 'Provide the Database Technology the proposed system requires (Example Oracle, SQL Server)', '', '', 'Provide the target deployment platform operating system', '', 'References', '', 'Provide a minimum of three references within the past two years to whom products or services similar in scope to the requirements of this RFP have been provided, in the following form: the name of the person who may be contacted, position, email address and phone number as well as the main location physical address.']\n",
            "2\n",
            "['1. What is the total number of hours associated with the following tasks/resources:', 'Total Project Hours', 'Project Management', 'Software Engineering/Development needed for Customizations', 'Testing & QA', 'Software Warranty', 'Infrastructure Management', '2. Provide a cost proposal which includes the total cost to be charged as well as the cost broken down by the following categories:', 'Initial Software Cost by Module', 'Customization', 'Itemized per customization', 'Group customizations which are required together', 'Installation and Configuration', 'Post Project Support', 'Training', 'Any Recurring Costs', '3. Provide a schedule of hourly rates for the various roles and skill levels to be assigned to this project.']\n"
          ]
        }
      ]
    },
    {
      "cell_type": "code",
      "source": [
        "import time\n",
        "def take_context(question,cont):\n",
        "  context=empty_Vertex(f'''\n",
        "  Document:{cont}\n",
        "  ___above this line is the document,below this line is what you need to do___\n",
        "  EXTRACT context related to the question. The output must be from the above Document, if no context related to the input exist, return:\"no\" only\n",
        "\n",
        "  question:[\"{question}\"]\n",
        "  output:context OR \"no\"\n",
        "  ''')\n",
        "  return context"
      ],
      "metadata": {
        "id": "R9I1BgnBPivm"
      },
      "execution_count": null,
      "outputs": []
    },
    {
      "cell_type": "code",
      "source": [],
      "metadata": {
        "id": "cKzEAUjrqY7U"
      },
      "execution_count": null,
      "outputs": []
    },
    {
      "cell_type": "markdown",
      "source": [
        "#Solution 2:\n",
        "Separate document into several sections by main Headings"
      ],
      "metadata": {
        "id": "2--oDtliqg0F"
      }
    },
    {
      "cell_type": "code",
      "source": [
        "headings = read_word_file(\"headings.docx\")"
      ],
      "metadata": {
        "id": "_34_Gg2XrYi9"
      },
      "execution_count": null,
      "outputs": []
    },
    {
      "cell_type": "code",
      "source": [
        "print(headings)"
      ],
      "metadata": {
        "id": "ID2MPPubsFBD"
      },
      "execution_count": null,
      "outputs": []
    },
    {
      "cell_type": "code",
      "source": [
        "a=Query_Vertex('This is a table of content, please extract main heading1' ,headings,model)\n",
        "b=re.sub('  ','',a)\n",
        "b=re.sub('\\d. ','',b)\n",
        "main_table=re.sub('\\d.','',b).split('\\n')\n",
        "print(main_table)"
      ],
      "metadata": {
        "colab": {
          "base_uri": "https://localhost:8080/"
        },
        "id": "9ClbL_UJsG45",
        "outputId": "6e75a1fb-6998-4fb9-dcf5-d27338ff2075"
      },
      "execution_count": null,
      "outputs": [
        {
          "output_type": "stream",
          "name": "stdout",
          "text": [
            "['\\tTERMS & CONDITIONS', '\\tGENERAL INFORMATION', '\\tTECHNICAL SPECIFICATIONS', '\\tHIGH-LEVEL PROJECT REQUIREMENTS', '\\tVENDOR INFORMATION', '\\tVENDOR PROPOSAL', '\\tMETHOD OF EVALUATIONS AND AWARD']\n"
          ]
        }
      ]
    },
    {
      "cell_type": "code",
      "source": [
        "main_table=['INTRODUCTION',\n",
        " 'TERMS & CONDITIONS',\n",
        " 'GENERAL INFORMATION',\n",
        " 'TECHNICAL SPECIFICATIONS',\n",
        " 'HIGH-LEVEL PROJECT REQUIREMENTS',\n",
        " 'VENDOR INFORMATION',\n",
        " 'VENDOR PROPOSAL',\n",
        " 'METHOD OF EVALUATIONS AND AWARD']"
      ],
      "metadata": {
        "id": "hyCGI86XtvOH"
      },
      "execution_count": null,
      "outputs": []
    },
    {
      "cell_type": "code",
      "source": [
        "split_C = []\n",
        "split_c = {}\n",
        "\n",
        "for i in range(len(main_table)):\n",
        "    try:\n",
        "        if i < len(main_table) - 1:\n",
        "            PART = document_text.split(main_table[i])[1].split(main_table[i + 1])[0]\n",
        "        else:\n",
        "            PART = document_text.split(main_table[i])[-1]\n",
        "        split_C.append(PART)\n",
        "        split_c[main_table[i]] = PART\n",
        "    except IndexError:\n",
        "        # Handle the case where the delimiter in main_table cannot be found\n",
        "        # Print an error message or take appropriate action\n",
        "        print(f\"Delimiter '{main_table[i]}' not found in document_text.\")\n"
      ],
      "metadata": {
        "id": "pagnqO8us-cT"
      },
      "execution_count": null,
      "outputs": []
    },
    {
      "cell_type": "code",
      "source": [
        "for a in split_c.values():\n",
        "  print(len(a))"
      ],
      "metadata": {
        "colab": {
          "base_uri": "https://localhost:8080/"
        },
        "id": "8oBTrcWzuOX6",
        "outputId": "bb9dc33b-6bf2-4be4-b80a-ffa5a0a1cbf1"
      },
      "execution_count": null,
      "outputs": [
        {
          "output_type": "stream",
          "name": "stdout",
          "text": [
            "724\n",
            "632\n",
            "4555\n",
            "10042\n",
            "2890\n",
            "3517\n",
            "2840\n",
            "3763\n"
          ]
        }
      ]
    },
    {
      "cell_type": "code",
      "source": [
        "questions={}\n",
        "for ind, i in enumerate(split_c.keys()):\n",
        "  a=Query_Vertex('only extract questions from the above article, if no question in the article, return \"no\". ' ,split_c[i],model).split('\\n')\n",
        "  if len(a)!=1:\n",
        "    print(i)\n",
        "    print(a)\n",
        "    questions[i]=a"
      ],
      "metadata": {
        "colab": {
          "base_uri": "https://localhost:8080/"
        },
        "id": "XgelMGw0uTRY",
        "outputId": "aa42b904-f4ed-4fc7-b382-846ec455c8d8"
      },
      "execution_count": null,
      "outputs": [
        {
          "output_type": "stream",
          "name": "stdout",
          "text": [
            "VENDOR INFORMATION\n",
            "['Provide an overview of your company, including date of incorporation, operating locations, number of employees, area(s) of specialty and number of successful projects with Non-Profit / Community Action Program customers.', 'Are you a woman or minority owned business? Please indicate in your response if you are.', 'Provide information about the specification of the project organizations with which you have experience (e.g., onshore, offshore, onshore PM, offshore dedicated development team, etc.).', 'Describe how you screen and hire staff. What level of skill and certifications, if any, must they have? How do you evaluate their experience and performance? What was your staff turnover rate throughout the preceding three (3) years for each year? Do you require background checks on all employees? How often is a background check updated on existing employees? Do you employ any overseas resources?', '', 'Describe the Software Development Life Cycle used for customizations, defects and system upgrades as would pertain to AGENTS customizations', '', 'Describe Software Release cycle used for new features to the overall system. Do you release new features Quarterly, Bi-Annually, Annually? How often is the overall system updated for security patches?', '', 'Describe server patching policy. If this is a cloud-based solution, how much planned down time is there per year, what hours or days is known down time typically planned', '', 'Have you ever worked on projects for Non-Profit Community Action Programs with similar functionality? Please provide a brief description of the project, project scope, size of the team, duration of the project and project management model.', '', 'What was the service and what was your role in the creation/deployment of the solution?', '', 'Describe the success of this experience and whether or how lessons learned were implemented.', 'Describe your experience levels and PMP Certifications with project management. How do you ordinarily scope, estimate, assign resources and measure progress?', '', 'Do you use internal staff for project management or do you use third party system integration teams?', '', '', 'Which software development lifecycle model would you choose for this project and why?', '', 'Describe your experience with Visual Fox Pro, any past data conversion experience with this technology, are any team members certified.', '', 'Describe your testing methodology and QA approach. Which testing tools and instruments do you use? Which methodologies do you use? What standard documentation do you produce during the development process?', '', '', 'Provide the Software Programming Language used to develop the proposed system (Example: C++, Java, C#)', 'Provide the Database Technology the proposed system requires (Example Oracle, SQL Server)', '', '', 'Provide the target deployment platform operating system', '', 'Provide a minimum of three references within the past two years to whom products or services similar in scope to the requirements of this RFP have been provided, in the following form: the name of the person who may be contacted, position, email address and phone number as well as the main location physical address.']\n",
            "VENDOR PROPOSAL\n",
            "['Describe the approach you are taking towards this project.', 'How do you propose to initiate, maintain and close out the project?', 'Include specific references to the project methodology and the desired relationship between AGENTS and your company.', 'Describe the skill sets, numbers and locations of the individuals you propose to staff this project.', 'Briefly provide an overview of the contributions you would expect each unique skill set to provide to the project.', 'Based on the approach and staffing outlined above, provide a project timeline that commences with a contract award date of 12/3/2018', 'This timeline should identify all major project milestones and indicate the dates associated with the project deliverables in Section 5.5 Overview of Deliverables.', 'Describe your estimating methodology and the methods you employed to determine the effort associated with this project.', 'Provide sample data from your estimating process to illustrate this methodology.', 'Provide the total number of hours associated with the following tasks/resources:', 'Total Project Hours', 'Project Management', 'Software Engineering/Development needed for Customizations', 'Testing & QA', 'Software Warranty', 'Infrastructure Management', 'Provide a cost proposal which includes the total cost to be charged as well as the cost broken down by the following categories:', 'Initial Software Cost by Module', 'Customization', 'Itemized per customization', 'Group customizations which are required together', 'Installation and Configuration', 'Post Project Support', 'Training', 'Any Recurring Costs', 'Provide a schedule of hourly rates for the various roles and skill levels to be assigned to this project.', 'List any assumptions you have made regarding how you will execute the project or regarding the activities of AGENTS in executing this project, or any other assumptions you may have made.', 'List any risks you have identified associated with this project.', 'Indicate your best assessment of the likelihood and impact (High, Medium, Low).', 'Identify the proposed response to those risks:', 'Accept the risk', 'Mitigate the risk with appropriate mitigation details', 'Provide any requirements for AGENTS time and resources that will be required to support the project effort.', 'Be clear about the skill sets and types of interaction required from AGENTS.']\n"
          ]
        }
      ]
    },
    {
      "cell_type": "code",
      "source": [],
      "metadata": {
        "id": "gEQlTG1iucFS"
      },
      "execution_count": null,
      "outputs": []
    }
  ]
}